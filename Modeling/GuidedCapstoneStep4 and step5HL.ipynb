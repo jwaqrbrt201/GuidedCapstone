{
 "cells": [
  {
   "cell_type": "markdown",
   "metadata": {
    "colab_type": "text",
    "id": "cf5CmXQCZyF1"
   },
   "source": [
    "# Guided Capstone Step 4. Pre-Processing and Training Data Development"
   ]
  },
  {
   "cell_type": "markdown",
   "metadata": {
    "colab_type": "text",
    "id": "b2jue2jPGJlt"
   },
   "source": [
    "**The Data Science Method**  \n",
    "\n",
    "\n",
    "1.   Problem Identification \n",
    "\n",
    "\n",
    "2.   Data Wrangling \n",
    "  \n",
    " \n",
    "3.   Exploratory Data Analysis   \n",
    "\n",
    "4.   **Pre-processing and Training Data Development**  \n",
    " * Create dummy or indicator features for categorical variables\n",
    "  * Standardize the magnitude of numeric features\n",
    "  * Split into testing and training datasets\n",
    "  * Apply scaler to the testing set\n",
    "5.   Modeling \n",
    "  * Fit Models with Training Data Set\n",
    "  * Review Model Outcomes — Iterate over additional models as needed.\n",
    "  * Identify the Final Model\n",
    "\n",
    "6.   Documentation\n",
    "  * Review the Results\n",
    "  * Present and share your findings - storytelling\n",
    "  * Finalize Code \n",
    "  * Finalize Documentation"
   ]
  },
  {
   "cell_type": "markdown",
   "metadata": {
    "colab_type": "text",
    "id": "K8xfkAqqZyF2"
   },
   "source": [
    "**<font color='teal'> Start by loading the necessary packages as we did in step 3 and printing out our current working directory just to confirm we are in the correct project directory. </font>**"
   ]
  },
  {
   "cell_type": "code",
   "execution_count": 1,
   "metadata": {
    "colab": {},
    "colab_type": "code",
    "id": "ry6WPL5eZyF3"
   },
   "outputs": [],
   "source": [
    "import os\n",
    "import pandas as pd\n",
    "import seaborn as sns\n",
    "import datetime\n",
    "import matplotlib.pyplot as plt\n",
    "import numpy as np\n",
    "%matplotlib inline"
   ]
  },
  {
   "cell_type": "markdown",
   "metadata": {
    "colab_type": "text",
    "id": "630T-ogRZyF8"
   },
   "source": [
    "**<font color='teal'>  Load the csv file you created in step 3, remember it should be saved inside your data subfolder and print the first five rows.</font>**"
   ]
  },
  {
   "cell_type": "code",
   "execution_count": 2,
   "metadata": {
    "colab": {},
    "colab_type": "code",
    "id": "dMNbk0u3ZyF9"
   },
   "outputs": [
    {
     "data": {
      "text/html": [
       "<div>\n",
       "<style scoped>\n",
       "    .dataframe tbody tr th:only-of-type {\n",
       "        vertical-align: middle;\n",
       "    }\n",
       "\n",
       "    .dataframe tbody tr th {\n",
       "        vertical-align: top;\n",
       "    }\n",
       "\n",
       "    .dataframe thead th {\n",
       "        text-align: right;\n",
       "    }\n",
       "</style>\n",
       "<table border=\"1\" class=\"dataframe\">\n",
       "  <thead>\n",
       "    <tr style=\"text-align: right;\">\n",
       "      <th></th>\n",
       "      <th>Name</th>\n",
       "      <th>state</th>\n",
       "      <th>summit_elev</th>\n",
       "      <th>vertical_drop</th>\n",
       "      <th>trams</th>\n",
       "      <th>fastEight</th>\n",
       "      <th>fastSixes</th>\n",
       "      <th>fastQuads</th>\n",
       "      <th>quad</th>\n",
       "      <th>triple</th>\n",
       "      <th>...</th>\n",
       "      <th>Snow Making_ac</th>\n",
       "      <th>daysOpenLastYear</th>\n",
       "      <th>yearsOpen</th>\n",
       "      <th>averageSnowfall</th>\n",
       "      <th>AdultWeekday</th>\n",
       "      <th>AdultWeekend</th>\n",
       "      <th>projectedDaysOpen</th>\n",
       "      <th>NightSkiing_ac</th>\n",
       "      <th>differences</th>\n",
       "      <th>clusters</th>\n",
       "    </tr>\n",
       "  </thead>\n",
       "  <tbody>\n",
       "    <tr>\n",
       "      <td>0</td>\n",
       "      <td>Hilltop Ski Area</td>\n",
       "      <td>Alaska</td>\n",
       "      <td>2090</td>\n",
       "      <td>294</td>\n",
       "      <td>0</td>\n",
       "      <td>0.0</td>\n",
       "      <td>0</td>\n",
       "      <td>0</td>\n",
       "      <td>0</td>\n",
       "      <td>1</td>\n",
       "      <td>...</td>\n",
       "      <td>30.000000</td>\n",
       "      <td>150.000000</td>\n",
       "      <td>36.0</td>\n",
       "      <td>69.0</td>\n",
       "      <td>30.000000</td>\n",
       "      <td>34.00000</td>\n",
       "      <td>152.0</td>\n",
       "      <td>30.0</td>\n",
       "      <td>0.0</td>\n",
       "      <td>1</td>\n",
       "    </tr>\n",
       "    <tr>\n",
       "      <td>1</td>\n",
       "      <td>Sunrise Park Resort</td>\n",
       "      <td>Arizona</td>\n",
       "      <td>11100</td>\n",
       "      <td>1800</td>\n",
       "      <td>0</td>\n",
       "      <td>0.0</td>\n",
       "      <td>0</td>\n",
       "      <td>1</td>\n",
       "      <td>2</td>\n",
       "      <td>3</td>\n",
       "      <td>...</td>\n",
       "      <td>80.000000</td>\n",
       "      <td>115.000000</td>\n",
       "      <td>49.0</td>\n",
       "      <td>250.0</td>\n",
       "      <td>74.000000</td>\n",
       "      <td>78.00000</td>\n",
       "      <td>104.0</td>\n",
       "      <td>80.0</td>\n",
       "      <td>0.0</td>\n",
       "      <td>0</td>\n",
       "    </tr>\n",
       "    <tr>\n",
       "      <td>2</td>\n",
       "      <td>Yosemite Ski &amp; Snowboard Area</td>\n",
       "      <td>California</td>\n",
       "      <td>7800</td>\n",
       "      <td>600</td>\n",
       "      <td>0</td>\n",
       "      <td>0.0</td>\n",
       "      <td>0</td>\n",
       "      <td>0</td>\n",
       "      <td>0</td>\n",
       "      <td>1</td>\n",
       "      <td>...</td>\n",
       "      <td>174.873239</td>\n",
       "      <td>110.000000</td>\n",
       "      <td>84.0</td>\n",
       "      <td>300.0</td>\n",
       "      <td>47.000000</td>\n",
       "      <td>47.00000</td>\n",
       "      <td>107.0</td>\n",
       "      <td>0.0</td>\n",
       "      <td>0.0</td>\n",
       "      <td>0</td>\n",
       "    </tr>\n",
       "    <tr>\n",
       "      <td>3</td>\n",
       "      <td>Donner Ski Ranch</td>\n",
       "      <td>California</td>\n",
       "      <td>8012</td>\n",
       "      <td>750</td>\n",
       "      <td>0</td>\n",
       "      <td>0.0</td>\n",
       "      <td>0</td>\n",
       "      <td>0</td>\n",
       "      <td>0</td>\n",
       "      <td>1</td>\n",
       "      <td>...</td>\n",
       "      <td>60.000000</td>\n",
       "      <td>163.000000</td>\n",
       "      <td>82.0</td>\n",
       "      <td>400.0</td>\n",
       "      <td>75.000000</td>\n",
       "      <td>75.00000</td>\n",
       "      <td>170.0</td>\n",
       "      <td>0.0</td>\n",
       "      <td>0.0</td>\n",
       "      <td>0</td>\n",
       "    </tr>\n",
       "    <tr>\n",
       "      <td>4</td>\n",
       "      <td>June Mountain</td>\n",
       "      <td>California</td>\n",
       "      <td>10090</td>\n",
       "      <td>2590</td>\n",
       "      <td>0</td>\n",
       "      <td>0.0</td>\n",
       "      <td>0</td>\n",
       "      <td>2</td>\n",
       "      <td>0</td>\n",
       "      <td>0</td>\n",
       "      <td>...</td>\n",
       "      <td>174.873239</td>\n",
       "      <td>115.103943</td>\n",
       "      <td>58.0</td>\n",
       "      <td>250.0</td>\n",
       "      <td>57.916957</td>\n",
       "      <td>64.16681</td>\n",
       "      <td>128.0</td>\n",
       "      <td>0.0</td>\n",
       "      <td>0.0</td>\n",
       "      <td>0</td>\n",
       "    </tr>\n",
       "  </tbody>\n",
       "</table>\n",
       "<p>5 rows × 27 columns</p>\n",
       "</div>"
      ],
      "text/plain": [
       "                            Name       state  summit_elev  vertical_drop  \\\n",
       "0               Hilltop Ski Area      Alaska         2090            294   \n",
       "1            Sunrise Park Resort     Arizona        11100           1800   \n",
       "2  Yosemite Ski & Snowboard Area  California         7800            600   \n",
       "3               Donner Ski Ranch  California         8012            750   \n",
       "4                  June Mountain  California        10090           2590   \n",
       "\n",
       "   trams  fastEight  fastSixes  fastQuads  quad  triple  ...  Snow Making_ac  \\\n",
       "0      0        0.0          0          0     0       1  ...       30.000000   \n",
       "1      0        0.0          0          1     2       3  ...       80.000000   \n",
       "2      0        0.0          0          0     0       1  ...      174.873239   \n",
       "3      0        0.0          0          0     0       1  ...       60.000000   \n",
       "4      0        0.0          0          2     0       0  ...      174.873239   \n",
       "\n",
       "   daysOpenLastYear  yearsOpen  averageSnowfall  AdultWeekday  AdultWeekend  \\\n",
       "0        150.000000       36.0             69.0     30.000000      34.00000   \n",
       "1        115.000000       49.0            250.0     74.000000      78.00000   \n",
       "2        110.000000       84.0            300.0     47.000000      47.00000   \n",
       "3        163.000000       82.0            400.0     75.000000      75.00000   \n",
       "4        115.103943       58.0            250.0     57.916957      64.16681   \n",
       "\n",
       "   projectedDaysOpen  NightSkiing_ac  differences  clusters  \n",
       "0              152.0            30.0          0.0         1  \n",
       "1              104.0            80.0          0.0         0  \n",
       "2              107.0             0.0          0.0         0  \n",
       "3              170.0             0.0          0.0         0  \n",
       "4              128.0             0.0          0.0         0  \n",
       "\n",
       "[5 rows x 27 columns]"
      ]
     },
     "execution_count": 2,
     "metadata": {},
     "output_type": "execute_result"
    }
   ],
   "source": [
    "df = pd.read_csv('C:\\\\Users\\\\james\\\\Desktop\\\\SpringboardWork\\\\data\\\\step3_output.csv')\n",
    "df.head()"
   ]
  },
  {
   "cell_type": "markdown",
   "metadata": {
    "colab_type": "text",
    "id": "zkBHf9smZyGB"
   },
   "source": [
    "## Create dummy features for categorical variables"
   ]
  },
  {
   "cell_type": "markdown",
   "metadata": {
    "colab_type": "text",
    "id": "vWKHm0NhAnrJ"
   },
   "source": [
    "**<font color='teal'> Create dummy variables for `state`. Add the dummies back to the dataframe and remove the original column for `state`. </font>**\n",
    "\n",
    "Hint: you can see an example of how to execute this in Aiden's article on preprocessing [here](https://medium.com/@aiden.dataminer/the-data-science-method-dsm-pre-processing-and-training-data-development-fd2d75182967). "
   ]
  },
  {
   "cell_type": "code",
   "execution_count": 3,
   "metadata": {
    "colab": {},
    "colab_type": "code",
    "id": "lZqWk8ltZyGZ"
   },
   "outputs": [],
   "source": [
    "statedum = pd.get_dummies(df['state'])"
   ]
  },
  {
   "cell_type": "code",
   "execution_count": 4,
   "metadata": {},
   "outputs": [
    {
     "data": {
      "text/html": [
       "<div>\n",
       "<style scoped>\n",
       "    .dataframe tbody tr th:only-of-type {\n",
       "        vertical-align: middle;\n",
       "    }\n",
       "\n",
       "    .dataframe tbody tr th {\n",
       "        vertical-align: top;\n",
       "    }\n",
       "\n",
       "    .dataframe thead th {\n",
       "        text-align: right;\n",
       "    }\n",
       "</style>\n",
       "<table border=\"1\" class=\"dataframe\">\n",
       "  <thead>\n",
       "    <tr style=\"text-align: right;\">\n",
       "      <th></th>\n",
       "      <th>Alaska</th>\n",
       "      <th>Arizona</th>\n",
       "      <th>California</th>\n",
       "      <th>Colorado</th>\n",
       "      <th>Connecticut</th>\n",
       "      <th>Idaho</th>\n",
       "      <th>Illinois</th>\n",
       "      <th>Indiana</th>\n",
       "      <th>Iowa</th>\n",
       "      <th>Maine</th>\n",
       "      <th>...</th>\n",
       "      <th>Rhode Island</th>\n",
       "      <th>South Dakota</th>\n",
       "      <th>Tennessee</th>\n",
       "      <th>Utah</th>\n",
       "      <th>Vermont</th>\n",
       "      <th>Virginia</th>\n",
       "      <th>Washington</th>\n",
       "      <th>West Virginia</th>\n",
       "      <th>Wisconsin</th>\n",
       "      <th>Wyoming</th>\n",
       "    </tr>\n",
       "  </thead>\n",
       "  <tbody>\n",
       "    <tr>\n",
       "      <td>0</td>\n",
       "      <td>1</td>\n",
       "      <td>0</td>\n",
       "      <td>0</td>\n",
       "      <td>0</td>\n",
       "      <td>0</td>\n",
       "      <td>0</td>\n",
       "      <td>0</td>\n",
       "      <td>0</td>\n",
       "      <td>0</td>\n",
       "      <td>0</td>\n",
       "      <td>...</td>\n",
       "      <td>0</td>\n",
       "      <td>0</td>\n",
       "      <td>0</td>\n",
       "      <td>0</td>\n",
       "      <td>0</td>\n",
       "      <td>0</td>\n",
       "      <td>0</td>\n",
       "      <td>0</td>\n",
       "      <td>0</td>\n",
       "      <td>0</td>\n",
       "    </tr>\n",
       "    <tr>\n",
       "      <td>1</td>\n",
       "      <td>0</td>\n",
       "      <td>1</td>\n",
       "      <td>0</td>\n",
       "      <td>0</td>\n",
       "      <td>0</td>\n",
       "      <td>0</td>\n",
       "      <td>0</td>\n",
       "      <td>0</td>\n",
       "      <td>0</td>\n",
       "      <td>0</td>\n",
       "      <td>...</td>\n",
       "      <td>0</td>\n",
       "      <td>0</td>\n",
       "      <td>0</td>\n",
       "      <td>0</td>\n",
       "      <td>0</td>\n",
       "      <td>0</td>\n",
       "      <td>0</td>\n",
       "      <td>0</td>\n",
       "      <td>0</td>\n",
       "      <td>0</td>\n",
       "    </tr>\n",
       "    <tr>\n",
       "      <td>2</td>\n",
       "      <td>0</td>\n",
       "      <td>0</td>\n",
       "      <td>1</td>\n",
       "      <td>0</td>\n",
       "      <td>0</td>\n",
       "      <td>0</td>\n",
       "      <td>0</td>\n",
       "      <td>0</td>\n",
       "      <td>0</td>\n",
       "      <td>0</td>\n",
       "      <td>...</td>\n",
       "      <td>0</td>\n",
       "      <td>0</td>\n",
       "      <td>0</td>\n",
       "      <td>0</td>\n",
       "      <td>0</td>\n",
       "      <td>0</td>\n",
       "      <td>0</td>\n",
       "      <td>0</td>\n",
       "      <td>0</td>\n",
       "      <td>0</td>\n",
       "    </tr>\n",
       "    <tr>\n",
       "      <td>3</td>\n",
       "      <td>0</td>\n",
       "      <td>0</td>\n",
       "      <td>1</td>\n",
       "      <td>0</td>\n",
       "      <td>0</td>\n",
       "      <td>0</td>\n",
       "      <td>0</td>\n",
       "      <td>0</td>\n",
       "      <td>0</td>\n",
       "      <td>0</td>\n",
       "      <td>...</td>\n",
       "      <td>0</td>\n",
       "      <td>0</td>\n",
       "      <td>0</td>\n",
       "      <td>0</td>\n",
       "      <td>0</td>\n",
       "      <td>0</td>\n",
       "      <td>0</td>\n",
       "      <td>0</td>\n",
       "      <td>0</td>\n",
       "      <td>0</td>\n",
       "    </tr>\n",
       "    <tr>\n",
       "      <td>4</td>\n",
       "      <td>0</td>\n",
       "      <td>0</td>\n",
       "      <td>1</td>\n",
       "      <td>0</td>\n",
       "      <td>0</td>\n",
       "      <td>0</td>\n",
       "      <td>0</td>\n",
       "      <td>0</td>\n",
       "      <td>0</td>\n",
       "      <td>0</td>\n",
       "      <td>...</td>\n",
       "      <td>0</td>\n",
       "      <td>0</td>\n",
       "      <td>0</td>\n",
       "      <td>0</td>\n",
       "      <td>0</td>\n",
       "      <td>0</td>\n",
       "      <td>0</td>\n",
       "      <td>0</td>\n",
       "      <td>0</td>\n",
       "      <td>0</td>\n",
       "    </tr>\n",
       "    <tr>\n",
       "      <td>...</td>\n",
       "      <td>...</td>\n",
       "      <td>...</td>\n",
       "      <td>...</td>\n",
       "      <td>...</td>\n",
       "      <td>...</td>\n",
       "      <td>...</td>\n",
       "      <td>...</td>\n",
       "      <td>...</td>\n",
       "      <td>...</td>\n",
       "      <td>...</td>\n",
       "      <td>...</td>\n",
       "      <td>...</td>\n",
       "      <td>...</td>\n",
       "      <td>...</td>\n",
       "      <td>...</td>\n",
       "      <td>...</td>\n",
       "      <td>...</td>\n",
       "      <td>...</td>\n",
       "      <td>...</td>\n",
       "      <td>...</td>\n",
       "      <td>...</td>\n",
       "    </tr>\n",
       "    <tr>\n",
       "      <td>162</td>\n",
       "      <td>0</td>\n",
       "      <td>0</td>\n",
       "      <td>0</td>\n",
       "      <td>0</td>\n",
       "      <td>0</td>\n",
       "      <td>0</td>\n",
       "      <td>0</td>\n",
       "      <td>0</td>\n",
       "      <td>0</td>\n",
       "      <td>0</td>\n",
       "      <td>...</td>\n",
       "      <td>0</td>\n",
       "      <td>0</td>\n",
       "      <td>0</td>\n",
       "      <td>0</td>\n",
       "      <td>0</td>\n",
       "      <td>0</td>\n",
       "      <td>0</td>\n",
       "      <td>0</td>\n",
       "      <td>0</td>\n",
       "      <td>1</td>\n",
       "    </tr>\n",
       "    <tr>\n",
       "      <td>163</td>\n",
       "      <td>0</td>\n",
       "      <td>0</td>\n",
       "      <td>0</td>\n",
       "      <td>0</td>\n",
       "      <td>0</td>\n",
       "      <td>0</td>\n",
       "      <td>0</td>\n",
       "      <td>0</td>\n",
       "      <td>0</td>\n",
       "      <td>0</td>\n",
       "      <td>...</td>\n",
       "      <td>0</td>\n",
       "      <td>0</td>\n",
       "      <td>0</td>\n",
       "      <td>0</td>\n",
       "      <td>0</td>\n",
       "      <td>0</td>\n",
       "      <td>0</td>\n",
       "      <td>0</td>\n",
       "      <td>0</td>\n",
       "      <td>1</td>\n",
       "    </tr>\n",
       "    <tr>\n",
       "      <td>164</td>\n",
       "      <td>0</td>\n",
       "      <td>0</td>\n",
       "      <td>0</td>\n",
       "      <td>0</td>\n",
       "      <td>0</td>\n",
       "      <td>0</td>\n",
       "      <td>0</td>\n",
       "      <td>0</td>\n",
       "      <td>0</td>\n",
       "      <td>0</td>\n",
       "      <td>...</td>\n",
       "      <td>0</td>\n",
       "      <td>0</td>\n",
       "      <td>0</td>\n",
       "      <td>0</td>\n",
       "      <td>0</td>\n",
       "      <td>0</td>\n",
       "      <td>0</td>\n",
       "      <td>0</td>\n",
       "      <td>0</td>\n",
       "      <td>1</td>\n",
       "    </tr>\n",
       "    <tr>\n",
       "      <td>165</td>\n",
       "      <td>0</td>\n",
       "      <td>0</td>\n",
       "      <td>0</td>\n",
       "      <td>0</td>\n",
       "      <td>0</td>\n",
       "      <td>0</td>\n",
       "      <td>0</td>\n",
       "      <td>0</td>\n",
       "      <td>0</td>\n",
       "      <td>0</td>\n",
       "      <td>...</td>\n",
       "      <td>0</td>\n",
       "      <td>0</td>\n",
       "      <td>0</td>\n",
       "      <td>0</td>\n",
       "      <td>0</td>\n",
       "      <td>0</td>\n",
       "      <td>0</td>\n",
       "      <td>0</td>\n",
       "      <td>0</td>\n",
       "      <td>1</td>\n",
       "    </tr>\n",
       "    <tr>\n",
       "      <td>166</td>\n",
       "      <td>0</td>\n",
       "      <td>0</td>\n",
       "      <td>0</td>\n",
       "      <td>0</td>\n",
       "      <td>0</td>\n",
       "      <td>0</td>\n",
       "      <td>0</td>\n",
       "      <td>0</td>\n",
       "      <td>0</td>\n",
       "      <td>0</td>\n",
       "      <td>...</td>\n",
       "      <td>0</td>\n",
       "      <td>0</td>\n",
       "      <td>0</td>\n",
       "      <td>0</td>\n",
       "      <td>0</td>\n",
       "      <td>0</td>\n",
       "      <td>0</td>\n",
       "      <td>0</td>\n",
       "      <td>0</td>\n",
       "      <td>1</td>\n",
       "    </tr>\n",
       "  </tbody>\n",
       "</table>\n",
       "<p>167 rows × 35 columns</p>\n",
       "</div>"
      ],
      "text/plain": [
       "     Alaska  Arizona  California  Colorado  Connecticut  Idaho  Illinois  \\\n",
       "0         1        0           0         0            0      0         0   \n",
       "1         0        1           0         0            0      0         0   \n",
       "2         0        0           1         0            0      0         0   \n",
       "3         0        0           1         0            0      0         0   \n",
       "4         0        0           1         0            0      0         0   \n",
       "..      ...      ...         ...       ...          ...    ...       ...   \n",
       "162       0        0           0         0            0      0         0   \n",
       "163       0        0           0         0            0      0         0   \n",
       "164       0        0           0         0            0      0         0   \n",
       "165       0        0           0         0            0      0         0   \n",
       "166       0        0           0         0            0      0         0   \n",
       "\n",
       "     Indiana  Iowa  Maine  ...  Rhode Island  South Dakota  Tennessee  Utah  \\\n",
       "0          0     0      0  ...             0             0          0     0   \n",
       "1          0     0      0  ...             0             0          0     0   \n",
       "2          0     0      0  ...             0             0          0     0   \n",
       "3          0     0      0  ...             0             0          0     0   \n",
       "4          0     0      0  ...             0             0          0     0   \n",
       "..       ...   ...    ...  ...           ...           ...        ...   ...   \n",
       "162        0     0      0  ...             0             0          0     0   \n",
       "163        0     0      0  ...             0             0          0     0   \n",
       "164        0     0      0  ...             0             0          0     0   \n",
       "165        0     0      0  ...             0             0          0     0   \n",
       "166        0     0      0  ...             0             0          0     0   \n",
       "\n",
       "     Vermont  Virginia  Washington  West Virginia  Wisconsin  Wyoming  \n",
       "0          0         0           0              0          0        0  \n",
       "1          0         0           0              0          0        0  \n",
       "2          0         0           0              0          0        0  \n",
       "3          0         0           0              0          0        0  \n",
       "4          0         0           0              0          0        0  \n",
       "..       ...       ...         ...            ...        ...      ...  \n",
       "162        0         0           0              0          0        1  \n",
       "163        0         0           0              0          0        1  \n",
       "164        0         0           0              0          0        1  \n",
       "165        0         0           0              0          0        1  \n",
       "166        0         0           0              0          0        1  \n",
       "\n",
       "[167 rows x 35 columns]"
      ]
     },
     "execution_count": 4,
     "metadata": {},
     "output_type": "execute_result"
    }
   ],
   "source": [
    "statedum"
   ]
  },
  {
   "cell_type": "code",
   "execution_count": 5,
   "metadata": {},
   "outputs": [],
   "source": [
    "df = pd.concat([df, statedum], axis=1)"
   ]
  },
  {
   "cell_type": "code",
   "execution_count": 6,
   "metadata": {},
   "outputs": [],
   "source": [
    "df = df.drop('state', axis=1)"
   ]
  },
  {
   "cell_type": "code",
   "execution_count": 7,
   "metadata": {},
   "outputs": [
    {
     "data": {
      "text/html": [
       "<div>\n",
       "<style scoped>\n",
       "    .dataframe tbody tr th:only-of-type {\n",
       "        vertical-align: middle;\n",
       "    }\n",
       "\n",
       "    .dataframe tbody tr th {\n",
       "        vertical-align: top;\n",
       "    }\n",
       "\n",
       "    .dataframe thead th {\n",
       "        text-align: right;\n",
       "    }\n",
       "</style>\n",
       "<table border=\"1\" class=\"dataframe\">\n",
       "  <thead>\n",
       "    <tr style=\"text-align: right;\">\n",
       "      <th></th>\n",
       "      <th>Name</th>\n",
       "      <th>summit_elev</th>\n",
       "      <th>vertical_drop</th>\n",
       "      <th>trams</th>\n",
       "      <th>fastEight</th>\n",
       "      <th>fastSixes</th>\n",
       "      <th>fastQuads</th>\n",
       "      <th>quad</th>\n",
       "      <th>triple</th>\n",
       "      <th>double</th>\n",
       "      <th>...</th>\n",
       "      <th>Rhode Island</th>\n",
       "      <th>South Dakota</th>\n",
       "      <th>Tennessee</th>\n",
       "      <th>Utah</th>\n",
       "      <th>Vermont</th>\n",
       "      <th>Virginia</th>\n",
       "      <th>Washington</th>\n",
       "      <th>West Virginia</th>\n",
       "      <th>Wisconsin</th>\n",
       "      <th>Wyoming</th>\n",
       "    </tr>\n",
       "  </thead>\n",
       "  <tbody>\n",
       "    <tr>\n",
       "      <td>0</td>\n",
       "      <td>Hilltop Ski Area</td>\n",
       "      <td>2090</td>\n",
       "      <td>294</td>\n",
       "      <td>0</td>\n",
       "      <td>0.0</td>\n",
       "      <td>0</td>\n",
       "      <td>0</td>\n",
       "      <td>0</td>\n",
       "      <td>1</td>\n",
       "      <td>0</td>\n",
       "      <td>...</td>\n",
       "      <td>0</td>\n",
       "      <td>0</td>\n",
       "      <td>0</td>\n",
       "      <td>0</td>\n",
       "      <td>0</td>\n",
       "      <td>0</td>\n",
       "      <td>0</td>\n",
       "      <td>0</td>\n",
       "      <td>0</td>\n",
       "      <td>0</td>\n",
       "    </tr>\n",
       "    <tr>\n",
       "      <td>1</td>\n",
       "      <td>Sunrise Park Resort</td>\n",
       "      <td>11100</td>\n",
       "      <td>1800</td>\n",
       "      <td>0</td>\n",
       "      <td>0.0</td>\n",
       "      <td>0</td>\n",
       "      <td>1</td>\n",
       "      <td>2</td>\n",
       "      <td>3</td>\n",
       "      <td>1</td>\n",
       "      <td>...</td>\n",
       "      <td>0</td>\n",
       "      <td>0</td>\n",
       "      <td>0</td>\n",
       "      <td>0</td>\n",
       "      <td>0</td>\n",
       "      <td>0</td>\n",
       "      <td>0</td>\n",
       "      <td>0</td>\n",
       "      <td>0</td>\n",
       "      <td>0</td>\n",
       "    </tr>\n",
       "    <tr>\n",
       "      <td>2</td>\n",
       "      <td>Yosemite Ski &amp; Snowboard Area</td>\n",
       "      <td>7800</td>\n",
       "      <td>600</td>\n",
       "      <td>0</td>\n",
       "      <td>0.0</td>\n",
       "      <td>0</td>\n",
       "      <td>0</td>\n",
       "      <td>0</td>\n",
       "      <td>1</td>\n",
       "      <td>3</td>\n",
       "      <td>...</td>\n",
       "      <td>0</td>\n",
       "      <td>0</td>\n",
       "      <td>0</td>\n",
       "      <td>0</td>\n",
       "      <td>0</td>\n",
       "      <td>0</td>\n",
       "      <td>0</td>\n",
       "      <td>0</td>\n",
       "      <td>0</td>\n",
       "      <td>0</td>\n",
       "    </tr>\n",
       "    <tr>\n",
       "      <td>3</td>\n",
       "      <td>Donner Ski Ranch</td>\n",
       "      <td>8012</td>\n",
       "      <td>750</td>\n",
       "      <td>0</td>\n",
       "      <td>0.0</td>\n",
       "      <td>0</td>\n",
       "      <td>0</td>\n",
       "      <td>0</td>\n",
       "      <td>1</td>\n",
       "      <td>5</td>\n",
       "      <td>...</td>\n",
       "      <td>0</td>\n",
       "      <td>0</td>\n",
       "      <td>0</td>\n",
       "      <td>0</td>\n",
       "      <td>0</td>\n",
       "      <td>0</td>\n",
       "      <td>0</td>\n",
       "      <td>0</td>\n",
       "      <td>0</td>\n",
       "      <td>0</td>\n",
       "    </tr>\n",
       "    <tr>\n",
       "      <td>4</td>\n",
       "      <td>June Mountain</td>\n",
       "      <td>10090</td>\n",
       "      <td>2590</td>\n",
       "      <td>0</td>\n",
       "      <td>0.0</td>\n",
       "      <td>0</td>\n",
       "      <td>2</td>\n",
       "      <td>0</td>\n",
       "      <td>0</td>\n",
       "      <td>4</td>\n",
       "      <td>...</td>\n",
       "      <td>0</td>\n",
       "      <td>0</td>\n",
       "      <td>0</td>\n",
       "      <td>0</td>\n",
       "      <td>0</td>\n",
       "      <td>0</td>\n",
       "      <td>0</td>\n",
       "      <td>0</td>\n",
       "      <td>0</td>\n",
       "      <td>0</td>\n",
       "    </tr>\n",
       "  </tbody>\n",
       "</table>\n",
       "<p>5 rows × 61 columns</p>\n",
       "</div>"
      ],
      "text/plain": [
       "                            Name  summit_elev  vertical_drop  trams  \\\n",
       "0               Hilltop Ski Area         2090            294      0   \n",
       "1            Sunrise Park Resort        11100           1800      0   \n",
       "2  Yosemite Ski & Snowboard Area         7800            600      0   \n",
       "3               Donner Ski Ranch         8012            750      0   \n",
       "4                  June Mountain        10090           2590      0   \n",
       "\n",
       "   fastEight  fastSixes  fastQuads  quad  triple  double  ...  Rhode Island  \\\n",
       "0        0.0          0          0     0       1       0  ...             0   \n",
       "1        0.0          0          1     2       3       1  ...             0   \n",
       "2        0.0          0          0     0       1       3  ...             0   \n",
       "3        0.0          0          0     0       1       5  ...             0   \n",
       "4        0.0          0          2     0       0       4  ...             0   \n",
       "\n",
       "   South Dakota  Tennessee  Utah  Vermont  Virginia  Washington  \\\n",
       "0             0          0     0        0         0           0   \n",
       "1             0          0     0        0         0           0   \n",
       "2             0          0     0        0         0           0   \n",
       "3             0          0     0        0         0           0   \n",
       "4             0          0     0        0         0           0   \n",
       "\n",
       "   West Virginia  Wisconsin  Wyoming  \n",
       "0              0          0        0  \n",
       "1              0          0        0  \n",
       "2              0          0        0  \n",
       "3              0          0        0  \n",
       "4              0          0        0  \n",
       "\n",
       "[5 rows x 61 columns]"
      ]
     },
     "execution_count": 7,
     "metadata": {},
     "output_type": "execute_result"
    }
   ],
   "source": [
    "df.head()"
   ]
  },
  {
   "cell_type": "markdown",
   "metadata": {
    "colab_type": "text",
    "id": "HnDVhE1-ZyGF"
   },
   "source": [
    "## Standardize the magnitude of numeric features"
   ]
  },
  {
   "cell_type": "markdown",
   "metadata": {
    "colab": {},
    "colab_type": "code",
    "id": "gW3D-WlDZyGG"
   },
   "source": [
    "**<font color='teal'> Using sklearn preprocessing standardize the scale of the features of the dataframe except the name of the resort which we done't need in the dataframe for modeling, so it can be droppped here as well. Also, we want to hold out our response variable(s) so we can have their true values available for model performance review. Let's set `AdultWeekend` to the y variable as our response for scaling and modeling. Later we will go back and consider the `AdultWeekday`, `dayOpenLastYear`, and `projectedDaysOpen`. For now leave them in the development dataframe. </font>**"
   ]
  },
  {
   "cell_type": "code",
   "execution_count": 8,
   "metadata": {
    "colab": {},
    "colab_type": "code",
    "id": "IZL-q-KtAYI6"
   },
   "outputs": [],
   "source": [
    "# first we import the preprocessing package from the sklearn library\n",
    "from sklearn import preprocessing\n",
    "\n",
    "# Declare an explanatory variable, called X,and assign it the result of dropping 'Name' and 'AdultWeekend' from the df\n",
    "X = df.drop(['Name','AdultWeekend'], axis=1)\n",
    "\n",
    "# Declare a response variable, called y, and assign it the AdultWeekend column of the df \n",
    "y = df.AdultWeekend\n",
    "\n",
    "# Here we use the StandardScaler() method of the preprocessing package, and then call the fit() method with parameter X \n",
    "scaler = preprocessing.StandardScaler().fit(X)\n",
    "\n",
    "# Declare a variable called X_scaled, and assign it the result of calling the transform() method with parameter X \n",
    "X_scaled=scaler.transform(X) "
   ]
  },
  {
   "cell_type": "markdown",
   "metadata": {
    "colab_type": "text",
    "id": "GAT8h4_mZyGK"
   },
   "source": [
    "## Split into training and testing datasets"
   ]
  },
  {
   "cell_type": "markdown",
   "metadata": {
    "colab_type": "text",
    "id": "6rdS8EGeAnrW"
   },
   "source": [
    "**<font color='teal'> Using sklearn model selection import train_test_split, and create a 75/25 split with the y = `AdultWeekend`. We will start by using the adult weekend ticket price as our response variable for modeling.</font>**"
   ]
  },
  {
   "cell_type": "code",
   "execution_count": 9,
   "metadata": {
    "colab": {},
    "colab_type": "code",
    "id": "BSkPut0gguds"
   },
   "outputs": [],
   "source": [
    "# Import the train_test_split function from the sklearn.model_selection utility.  \n",
    "from sklearn.model_selection import train_test_split\n",
    "\n",
    "# Get the 1-dimensional flattened array of our response variable y by calling the ravel() function on y\n",
    "y = y.ravel()\n",
    "\n",
    "# Call the train_test_split() function with the first two parameters set to X_scaled and y \n",
    "# Declare four variables, X_train, X_test, y_train and y_test separated by commas \n",
    "X_train, X_test, y_train, y_test = train_test_split(X_scaled, y, test_size=0.25, random_state=1)"
   ]
  },
  {
   "cell_type": "markdown",
   "metadata": {
    "colab_type": "text",
    "id": "UayqbwkWAnra"
   },
   "source": [
    "Here we start the actual modeling work. First let's fit a multiple linear regression model to predict the `AdultWeekend` price."
   ]
  },
  {
   "cell_type": "markdown",
   "metadata": {
    "colab_type": "text",
    "id": "83fkLldXFCNd"
   },
   "source": [
    "# Guided Capstone Step 5. Modeling\n"
   ]
  },
  {
   "cell_type": "markdown",
   "metadata": {
    "colab_type": "text",
    "id": "JbZXsVevfr9M"
   },
   "source": [
    "This is the fifth step in the Data Science Method. In the previous steps you cleaned and prepared the datasets. Now it's time to get into the most exciting part: modeling! In this exercise, you'll build three different models and compare each model's performance. In the end, you'll choose the best model for demonstrating insights to Big Mountain management.\n",
    "\n",
    "\n",
    "\n",
    "### **The Data Science Method**  \n",
    "\n",
    "\n",
    "1.   Problem Identification \n",
    "\n",
    "2.   Data Wrangling \n",
    "  \n",
    "3.   Exploratory Data Analysis \n",
    " \n",
    "4.   Pre-processing and Training Data Development\n",
    "\n",
    "5.   **Modeling**\n",
    "  * Fit Models with Training Data Set\n",
    "  * Review Model Outcomes — Iterate over additional models as needed.\n",
    "  * Identify the Final Model\n",
    "\n",
    "6.   Documentation\n",
    "  * Review the Results\n",
    "  * Present and share your findings - storytelling\n",
    "  * Finalize Code \n",
    "  * Finalize Documentation"
   ]
  },
  {
   "cell_type": "markdown",
   "metadata": {
    "colab_type": "text",
    "id": "D_wfsP_-Anra"
   },
   "source": [
    "## Fit Models with a Training Dataset"
   ]
  },
  {
   "cell_type": "markdown",
   "metadata": {
    "colab_type": "text",
    "id": "CoI8S5SwAnrc"
   },
   "source": [
    "**<font color='teal'> Using sklearn, fit the model on your training dataset.</font>**"
   ]
  },
  {
   "cell_type": "markdown",
   "metadata": {
    "colab_type": "text",
    "id": "P_GFr8sRAnrd"
   },
   "source": [
    "#### Model 1"
   ]
  },
  {
   "cell_type": "code",
   "execution_count": 10,
   "metadata": {
    "colab": {},
    "colab_type": "code",
    "id": "fW6K7uOPAnre"
   },
   "outputs": [],
   "source": [
    "#call first model set\n",
    "from sklearn import linear_model\n",
    "from sklearn.metrics import explained_variance_score,mean_absolute_error\n",
    "lm = linear_model.LinearRegression()\n",
    "model = lm.fit(X_train,y_train)"
   ]
  },
  {
   "cell_type": "markdown",
   "metadata": {
    "colab_type": "text",
    "id": "1fHqz9-WAnrg"
   },
   "source": [
    "**<font color='teal'> Predict on the testing dataset and score the model performance with the y_test set and the y-pred values. The explained variance is a measure of the variation explained by the model. This is also known as the R-squared value. </font>**\n",
    "\n",
    "Hint: you will have to use the `predict()` method here as it's used in this [DSM article](https://medium.com/@aiden.dataminer/the-data-science-method-dsm-modeling-56b4233cad1b) about modeling. "
   ]
  },
  {
   "cell_type": "code",
   "execution_count": 11,
   "metadata": {
    "colab": {},
    "colab_type": "code",
    "id": "nIo01lFEAnrh"
   },
   "outputs": [],
   "source": [
    "# Make a variable called y_pred and assign it the result of calling predict() on our model variable with parameter X_test\n",
    "y_pred = model.predict(X_test)"
   ]
  },
  {
   "cell_type": "markdown",
   "metadata": {
    "colab_type": "text",
    "id": "N4YS0WE2Anrk"
   },
   "source": [
    "## Review Model Outcomes — Iterate over additional models as needed"
   ]
  },
  {
   "cell_type": "code",
   "execution_count": 12,
   "metadata": {
    "colab": {},
    "colab_type": "code",
    "id": "HSh9sGIYAnrk"
   },
   "outputs": [],
   "source": [
    "# You might want to use the explained_variance_score() and mean_absolute_error() metrics.\n",
    "# To do so, you will need to import them from sklearn.metrics. \n",
    "# You can plug y_test and y_pred into the functions to evaluate the model\n",
    "df1 = pd.DataFrame({'Actual': y_test, 'Predicted': y_pred})"
   ]
  },
  {
   "cell_type": "code",
   "execution_count": 13,
   "metadata": {},
   "outputs": [
    {
     "data": {
      "text/plain": [
       "Actual       6.416681e+01\n",
       "Predicted   -7.411546e+12\n",
       "Name: 19, dtype: float64"
      ]
     },
     "execution_count": 13,
     "metadata": {},
     "output_type": "execute_result"
    }
   ],
   "source": [
    "df1.iloc[19]"
   ]
  },
  {
   "cell_type": "code",
   "execution_count": 14,
   "metadata": {},
   "outputs": [],
   "source": [
    "df1['difference'] = np.subtract(df1['Actual'],df1['Predicted'])"
   ]
  },
  {
   "cell_type": "code",
   "execution_count": 15,
   "metadata": {},
   "outputs": [],
   "source": [
    "df1['absolute_diff'] = np.absolute(df1['difference'])"
   ]
  },
  {
   "cell_type": "code",
   "execution_count": 16,
   "metadata": {},
   "outputs": [
    {
     "data": {
      "text/plain": [
       "7411548771190.617"
      ]
     },
     "execution_count": 16,
     "metadata": {},
     "output_type": "execute_result"
    }
   ],
   "source": [
    "df1.absolute_diff.max()"
   ]
  },
  {
   "cell_type": "code",
   "execution_count": 17,
   "metadata": {},
   "outputs": [
    {
     "data": {
      "text/plain": [
       "352930831562.6709"
      ]
     },
     "execution_count": 17,
     "metadata": {},
     "output_type": "execute_result"
    }
   ],
   "source": [
    "mean_absolute_error(y_test, y_pred)"
   ]
  },
  {
   "cell_type": "code",
   "execution_count": 18,
   "metadata": {},
   "outputs": [
    {
     "data": {
      "text/plain": [
       "-1.5866453779036926e+22"
      ]
     },
     "execution_count": 18,
     "metadata": {},
     "output_type": "execute_result"
    }
   ],
   "source": [
    "explained_variance_score(y_test, y_pred)"
   ]
  },
  {
   "cell_type": "code",
   "execution_count": 19,
   "metadata": {},
   "outputs": [],
   "source": [
    "### James: None of these results make sense to me.  How is the explained variance score a negative number?  Why is one of the predicted values so high?"
   ]
  },
  {
   "cell_type": "markdown",
   "metadata": {
    "colab_type": "text",
    "id": "edajrenAAnrv"
   },
   "source": [
    "**<font color='teal'> The intercept is the mean `AdultWeekend` price for all the resorts given the other characteristics. The addition or subtraction of each of the coefficient values in the regression are numeric adjustments applied to the intercept to provide a particular observation's value for the resulting `AdultWeekend` value. Also, because we took the time to scale our x values in the training data, we can compare each of the coeeficients for the features to determine the feature importances. Print the coefficient values from the linear model and sort in descending order to identify the top ten most important features.</font>** \n",
    "\n",
    "\n",
    "Hint: make sure to review the absolute value of the coefficients, because the adjustment may be positive or negative, but what we are looking for is the magnitude of impact on our response variable."
   ]
  },
  {
   "cell_type": "code",
   "execution_count": 20,
   "metadata": {
    "colab": {},
    "colab_type": "code",
    "id": "FEKc_lmZAnrw"
   },
   "outputs": [
    {
     "data": {
      "text/html": [
       "<div>\n",
       "<style scoped>\n",
       "    .dataframe tbody tr th:only-of-type {\n",
       "        vertical-align: middle;\n",
       "    }\n",
       "\n",
       "    .dataframe tbody tr th {\n",
       "        vertical-align: top;\n",
       "    }\n",
       "\n",
       "    .dataframe thead th {\n",
       "        text-align: right;\n",
       "    }\n",
       "</style>\n",
       "<table border=\"1\" class=\"dataframe\">\n",
       "  <thead>\n",
       "    <tr style=\"text-align: right;\">\n",
       "      <th></th>\n",
       "      <th>Coefficient</th>\n",
       "    </tr>\n",
       "  </thead>\n",
       "  <tbody>\n",
       "    <tr>\n",
       "      <td>fastEight</td>\n",
       "      <td>4.774604e+13</td>\n",
       "    </tr>\n",
       "    <tr>\n",
       "      <td>trams</td>\n",
       "      <td>3.265521e+13</td>\n",
       "    </tr>\n",
       "    <tr>\n",
       "      <td>fastSixes</td>\n",
       "      <td>1.732940e+13</td>\n",
       "    </tr>\n",
       "    <tr>\n",
       "      <td>total_chairs</td>\n",
       "      <td>5.403084e+12</td>\n",
       "    </tr>\n",
       "    <tr>\n",
       "      <td>surface</td>\n",
       "      <td>3.155859e+12</td>\n",
       "    </tr>\n",
       "    <tr>\n",
       "      <td>double</td>\n",
       "      <td>2.991546e+12</td>\n",
       "    </tr>\n",
       "    <tr>\n",
       "      <td>triple</td>\n",
       "      <td>2.555702e+12</td>\n",
       "    </tr>\n",
       "    <tr>\n",
       "      <td>New York</td>\n",
       "      <td>2.353424e+12</td>\n",
       "    </tr>\n",
       "    <tr>\n",
       "      <td>Michigan</td>\n",
       "      <td>2.181428e+12</td>\n",
       "    </tr>\n",
       "    <tr>\n",
       "      <td>New Hampshire</td>\n",
       "      <td>1.838447e+12</td>\n",
       "    </tr>\n",
       "    <tr>\n",
       "      <td>Pennsylvania</td>\n",
       "      <td>1.758500e+12</td>\n",
       "    </tr>\n",
       "    <tr>\n",
       "      <td>Wisconsin</td>\n",
       "      <td>1.758500e+12</td>\n",
       "    </tr>\n",
       "    <tr>\n",
       "      <td>Minnesota</td>\n",
       "      <td>1.582836e+12</td>\n",
       "    </tr>\n",
       "    <tr>\n",
       "      <td>California</td>\n",
       "      <td>1.582836e+12</td>\n",
       "    </tr>\n",
       "    <tr>\n",
       "      <td>quad</td>\n",
       "      <td>1.543765e+12</td>\n",
       "    </tr>\n",
       "    <tr>\n",
       "      <td>Vermont</td>\n",
       "      <td>1.485257e+12</td>\n",
       "    </tr>\n",
       "    <tr>\n",
       "      <td>Idaho</td>\n",
       "      <td>1.379371e+12</td>\n",
       "    </tr>\n",
       "    <tr>\n",
       "      <td>New Mexico</td>\n",
       "      <td>1.379371e+12</td>\n",
       "    </tr>\n",
       "    <tr>\n",
       "      <td>Maine</td>\n",
       "      <td>1.263092e+12</td>\n",
       "    </tr>\n",
       "    <tr>\n",
       "      <td>Connecticut</td>\n",
       "      <td>1.263092e+12</td>\n",
       "    </tr>\n",
       "    <tr>\n",
       "      <td>Colorado</td>\n",
       "      <td>1.263092e+12</td>\n",
       "    </tr>\n",
       "    <tr>\n",
       "      <td>Wyoming</td>\n",
       "      <td>1.263092e+12</td>\n",
       "    </tr>\n",
       "    <tr>\n",
       "      <td>fastQuads</td>\n",
       "      <td>1.227645e+12</td>\n",
       "    </tr>\n",
       "    <tr>\n",
       "      <td>Massachusetts</td>\n",
       "      <td>1.133225e+12</td>\n",
       "    </tr>\n",
       "    <tr>\n",
       "      <td>Washington</td>\n",
       "      <td>1.133225e+12</td>\n",
       "    </tr>\n",
       "    <tr>\n",
       "      <td>Ohio</td>\n",
       "      <td>1.133225e+12</td>\n",
       "    </tr>\n",
       "    <tr>\n",
       "      <td>North Carolina</td>\n",
       "      <td>9.844078e+11</td>\n",
       "    </tr>\n",
       "    <tr>\n",
       "      <td>West Virginia</td>\n",
       "      <td>9.844078e+11</td>\n",
       "    </tr>\n",
       "    <tr>\n",
       "      <td>Illinois</td>\n",
       "      <td>9.844078e+11</td>\n",
       "    </tr>\n",
       "    <tr>\n",
       "      <td>Oregon</td>\n",
       "      <td>9.844078e+11</td>\n",
       "    </tr>\n",
       "    <tr>\n",
       "      <td>Montana</td>\n",
       "      <td>9.844078e+11</td>\n",
       "    </tr>\n",
       "    <tr>\n",
       "      <td>Utah</td>\n",
       "      <td>9.844078e+11</td>\n",
       "    </tr>\n",
       "    <tr>\n",
       "      <td>Virginia</td>\n",
       "      <td>8.062124e+11</td>\n",
       "    </tr>\n",
       "    <tr>\n",
       "      <td>Iowa</td>\n",
       "      <td>8.062124e+11</td>\n",
       "    </tr>\n",
       "    <tr>\n",
       "      <td>Missouri</td>\n",
       "      <td>8.062124e+11</td>\n",
       "    </tr>\n",
       "    <tr>\n",
       "      <td>Indiana</td>\n",
       "      <td>8.062124e+11</td>\n",
       "    </tr>\n",
       "    <tr>\n",
       "      <td>Tennessee</td>\n",
       "      <td>5.718032e+11</td>\n",
       "    </tr>\n",
       "    <tr>\n",
       "      <td>Maryland</td>\n",
       "      <td>5.718032e+11</td>\n",
       "    </tr>\n",
       "    <tr>\n",
       "      <td>Alaska</td>\n",
       "      <td>5.718032e+11</td>\n",
       "    </tr>\n",
       "    <tr>\n",
       "      <td>Nevada</td>\n",
       "      <td>5.718032e+11</td>\n",
       "    </tr>\n",
       "    <tr>\n",
       "      <td>South Dakota</td>\n",
       "      <td>5.718032e+11</td>\n",
       "    </tr>\n",
       "    <tr>\n",
       "      <td>Arizona</td>\n",
       "      <td>5.718032e+11</td>\n",
       "    </tr>\n",
       "    <tr>\n",
       "      <td>differences</td>\n",
       "      <td>2.229320e+10</td>\n",
       "    </tr>\n",
       "    <tr>\n",
       "      <td>New Jersey</td>\n",
       "      <td>2.018934e+05</td>\n",
       "    </tr>\n",
       "    <tr>\n",
       "      <td>AdultWeekday</td>\n",
       "      <td>1.015137e+01</td>\n",
       "    </tr>\n",
       "    <tr>\n",
       "      <td>Rhode Island</td>\n",
       "      <td>5.417572e+00</td>\n",
       "    </tr>\n",
       "    <tr>\n",
       "      <td>summit_elev</td>\n",
       "      <td>4.146564e+00</td>\n",
       "    </tr>\n",
       "    <tr>\n",
       "      <td>Runs</td>\n",
       "      <td>1.972229e+00</td>\n",
       "    </tr>\n",
       "    <tr>\n",
       "      <td>NightSkiing_ac</td>\n",
       "      <td>1.214844e+00</td>\n",
       "    </tr>\n",
       "    <tr>\n",
       "      <td>clusters</td>\n",
       "      <td>1.205078e+00</td>\n",
       "    </tr>\n",
       "    <tr>\n",
       "      <td>LongestRun_mi</td>\n",
       "      <td>8.818359e-01</td>\n",
       "    </tr>\n",
       "    <tr>\n",
       "      <td>projectedDaysOpen</td>\n",
       "      <td>7.456055e-01</td>\n",
       "    </tr>\n",
       "    <tr>\n",
       "      <td>Snow Making_ac</td>\n",
       "      <td>6.694336e-01</td>\n",
       "    </tr>\n",
       "    <tr>\n",
       "      <td>averageSnowfall</td>\n",
       "      <td>6.376953e-01</td>\n",
       "    </tr>\n",
       "    <tr>\n",
       "      <td>SkiableTerrain_ac</td>\n",
       "      <td>4.648438e-01</td>\n",
       "    </tr>\n",
       "    <tr>\n",
       "      <td>TerrainParks</td>\n",
       "      <td>4.443359e-01</td>\n",
       "    </tr>\n",
       "    <tr>\n",
       "      <td>daysOpenLastYear</td>\n",
       "      <td>4.257812e-01</td>\n",
       "    </tr>\n",
       "    <tr>\n",
       "      <td>yearsOpen</td>\n",
       "      <td>3.593750e-01</td>\n",
       "    </tr>\n",
       "    <tr>\n",
       "      <td>vertical_drop</td>\n",
       "      <td>3.407303e-02</td>\n",
       "    </tr>\n",
       "  </tbody>\n",
       "</table>\n",
       "</div>"
      ],
      "text/plain": [
       "                    Coefficient\n",
       "fastEight          4.774604e+13\n",
       "trams              3.265521e+13\n",
       "fastSixes          1.732940e+13\n",
       "total_chairs       5.403084e+12\n",
       "surface            3.155859e+12\n",
       "double             2.991546e+12\n",
       "triple             2.555702e+12\n",
       "New York           2.353424e+12\n",
       "Michigan           2.181428e+12\n",
       "New Hampshire      1.838447e+12\n",
       "Pennsylvania       1.758500e+12\n",
       "Wisconsin          1.758500e+12\n",
       "Minnesota          1.582836e+12\n",
       "California         1.582836e+12\n",
       "quad               1.543765e+12\n",
       "Vermont            1.485257e+12\n",
       "Idaho              1.379371e+12\n",
       "New Mexico         1.379371e+12\n",
       "Maine              1.263092e+12\n",
       "Connecticut        1.263092e+12\n",
       "Colorado           1.263092e+12\n",
       "Wyoming            1.263092e+12\n",
       "fastQuads          1.227645e+12\n",
       "Massachusetts      1.133225e+12\n",
       "Washington         1.133225e+12\n",
       "Ohio               1.133225e+12\n",
       "North Carolina     9.844078e+11\n",
       "West Virginia      9.844078e+11\n",
       "Illinois           9.844078e+11\n",
       "Oregon             9.844078e+11\n",
       "Montana            9.844078e+11\n",
       "Utah               9.844078e+11\n",
       "Virginia           8.062124e+11\n",
       "Iowa               8.062124e+11\n",
       "Missouri           8.062124e+11\n",
       "Indiana            8.062124e+11\n",
       "Tennessee          5.718032e+11\n",
       "Maryland           5.718032e+11\n",
       "Alaska             5.718032e+11\n",
       "Nevada             5.718032e+11\n",
       "South Dakota       5.718032e+11\n",
       "Arizona            5.718032e+11\n",
       "differences        2.229320e+10\n",
       "New Jersey         2.018934e+05\n",
       "AdultWeekday       1.015137e+01\n",
       "Rhode Island       5.417572e+00\n",
       "summit_elev        4.146564e+00\n",
       "Runs               1.972229e+00\n",
       "NightSkiing_ac     1.214844e+00\n",
       "clusters           1.205078e+00\n",
       "LongestRun_mi      8.818359e-01\n",
       "projectedDaysOpen  7.456055e-01\n",
       "Snow Making_ac     6.694336e-01\n",
       "averageSnowfall    6.376953e-01\n",
       "SkiableTerrain_ac  4.648438e-01\n",
       "TerrainParks       4.443359e-01\n",
       "daysOpenLastYear   4.257812e-01\n",
       "yearsOpen          3.593750e-01\n",
       "vertical_drop      3.407303e-02"
      ]
     },
     "execution_count": 20,
     "metadata": {},
     "output_type": "execute_result"
    }
   ],
   "source": [
    "# You might want to make a pandas DataFrame displaying the coefficients for each state like so: \n",
    "pd.DataFrame(abs(lm.coef_), X.columns, columns=['Coefficient']).sort_values(by='Coefficient', ascending= False)"
   ]
  },
  {
   "cell_type": "markdown",
   "metadata": {
    "colab_type": "text",
    "id": "NWJcOuSdAnrr"
   },
   "source": [
    "**<font color='teal'> Print the intercept value from the linear model. </font>**\n",
    "\n",
    "Hint: our linear regression model `lm` has an attribute `intercept_` for the intercept"
   ]
  },
  {
   "cell_type": "code",
   "execution_count": 21,
   "metadata": {
    "colab": {},
    "colab_type": "code",
    "id": "3WzWejn6Anrt"
   },
   "outputs": [
    {
     "data": {
      "text/plain": [
       "-88761047401.15361"
      ]
     },
     "execution_count": 21,
     "metadata": {},
     "output_type": "execute_result"
    }
   ],
   "source": [
    "lm.intercept_"
   ]
  },
  {
   "cell_type": "markdown",
   "metadata": {
    "colab_type": "text",
    "id": "BpdALMoAAnry"
   },
   "source": [
    "**<font color='teal'>You should see that the top ten important features are different states. However, the state is not something the managers at the Big Mountain Resort can do anything about. Given that we care more about actionable traits associated with ticket pricing, rebuild the model without the state features and compare the results. </font>**\n",
    "\n",
    "Hint: Try to construct another model using exactly the steps we followed above. "
   ]
  },
  {
   "cell_type": "markdown",
   "metadata": {
    "colab_type": "text",
    "id": "-mHYA1BzAnrz"
   },
   "source": [
    "#### Model 2"
   ]
  },
  {
   "cell_type": "code",
   "execution_count": 22,
   "metadata": {
    "colab": {},
    "colab_type": "code",
    "id": "Pz1YXAdiAnr0"
   },
   "outputs": [],
   "source": [
    "df2 = df.drop(df.iloc[:, 26:], axis = 1) "
   ]
  },
  {
   "cell_type": "code",
   "execution_count": 23,
   "metadata": {
    "colab": {},
    "colab_type": "code",
    "id": "nM1EGf16Anr2"
   },
   "outputs": [],
   "source": [
    "X2 = df2.drop(['Name','AdultWeekend','differences'], axis=1)\n",
    "\n",
    "# Declare a response variable, called y, and assign it the AdultWeekend column of the df \n",
    "y2 = df2.AdultWeekend\n",
    "\n",
    "# Here we use the StandardScaler() method of the preprocessing package, and then call the fit() method with parameter X \n",
    "scaler2 = preprocessing.StandardScaler().fit(X2)\n",
    "\n",
    "# Declare a variable called X_scaled, and assign it the result of calling the transform() method with parameter X \n",
    "X_scaled2=scaler2.transform(X2) "
   ]
  },
  {
   "cell_type": "code",
   "execution_count": 24,
   "metadata": {},
   "outputs": [],
   "source": [
    "# Call the train_test_split() function with the first two parameters set to X_scaled and y \n",
    "# Declare four variables, X_train, X_test, y_train and y_test separated by commas \n",
    "X2_train, X2_test, y2_train, y2_test = train_test_split(X_scaled2, y2, test_size=0.25, random_state=1)"
   ]
  },
  {
   "cell_type": "code",
   "execution_count": 25,
   "metadata": {},
   "outputs": [],
   "source": [
    "lm2 = linear_model.LinearRegression()\n",
    "model2 = lm.fit(X2_train,y2_train)"
   ]
  },
  {
   "cell_type": "code",
   "execution_count": 26,
   "metadata": {},
   "outputs": [],
   "source": [
    "y_pred2 = model2.predict(X2_test)"
   ]
  },
  {
   "cell_type": "code",
   "execution_count": 27,
   "metadata": {},
   "outputs": [],
   "source": [
    "dfap = pd.DataFrame({'Actual': y2_test, 'Predicted': y_pred2})"
   ]
  },
  {
   "cell_type": "code",
   "execution_count": 28,
   "metadata": {},
   "outputs": [
    {
     "data": {
      "text/plain": [
       "6.450958860099005"
      ]
     },
     "execution_count": 28,
     "metadata": {},
     "output_type": "execute_result"
    }
   ],
   "source": [
    "mean_absolute_error(y2_test, y_pred2)"
   ]
  },
  {
   "cell_type": "code",
   "execution_count": 29,
   "metadata": {},
   "outputs": [
    {
     "data": {
      "text/plain": [
       "0.5922140280577681"
      ]
     },
     "execution_count": 29,
     "metadata": {},
     "output_type": "execute_result"
    }
   ],
   "source": [
    "explained_variance_score(y2_test, y_pred2)"
   ]
  },
  {
   "cell_type": "code",
   "execution_count": 30,
   "metadata": {},
   "outputs": [
    {
     "data": {
      "text/html": [
       "<div>\n",
       "<style scoped>\n",
       "    .dataframe tbody tr th:only-of-type {\n",
       "        vertical-align: middle;\n",
       "    }\n",
       "\n",
       "    .dataframe tbody tr th {\n",
       "        vertical-align: top;\n",
       "    }\n",
       "\n",
       "    .dataframe thead th {\n",
       "        text-align: right;\n",
       "    }\n",
       "</style>\n",
       "<table border=\"1\" class=\"dataframe\">\n",
       "  <thead>\n",
       "    <tr style=\"text-align: right;\">\n",
       "      <th></th>\n",
       "      <th>Coefficient</th>\n",
       "    </tr>\n",
       "  </thead>\n",
       "  <tbody>\n",
       "    <tr>\n",
       "      <td>AdultWeekday</td>\n",
       "      <td>1.094967e+01</td>\n",
       "    </tr>\n",
       "    <tr>\n",
       "      <td>clusters</td>\n",
       "      <td>3.406477e+00</td>\n",
       "    </tr>\n",
       "    <tr>\n",
       "      <td>daysOpenLastYear</td>\n",
       "      <td>1.814029e+00</td>\n",
       "    </tr>\n",
       "    <tr>\n",
       "      <td>triple</td>\n",
       "      <td>1.411836e+00</td>\n",
       "    </tr>\n",
       "    <tr>\n",
       "      <td>averageSnowfall</td>\n",
       "      <td>1.319763e+00</td>\n",
       "    </tr>\n",
       "    <tr>\n",
       "      <td>surface</td>\n",
       "      <td>1.315252e+00</td>\n",
       "    </tr>\n",
       "    <tr>\n",
       "      <td>Runs</td>\n",
       "      <td>1.110194e+00</td>\n",
       "    </tr>\n",
       "    <tr>\n",
       "      <td>projectedDaysOpen</td>\n",
       "      <td>1.082615e+00</td>\n",
       "    </tr>\n",
       "    <tr>\n",
       "      <td>vertical_drop</td>\n",
       "      <td>1.004762e+00</td>\n",
       "    </tr>\n",
       "    <tr>\n",
       "      <td>quad</td>\n",
       "      <td>7.703545e-01</td>\n",
       "    </tr>\n",
       "    <tr>\n",
       "      <td>double</td>\n",
       "      <td>7.220809e-01</td>\n",
       "    </tr>\n",
       "    <tr>\n",
       "      <td>total_chairs</td>\n",
       "      <td>6.247145e-01</td>\n",
       "    </tr>\n",
       "    <tr>\n",
       "      <td>NightSkiing_ac</td>\n",
       "      <td>5.421593e-01</td>\n",
       "    </tr>\n",
       "    <tr>\n",
       "      <td>Snow Making_ac</td>\n",
       "      <td>4.713180e-01</td>\n",
       "    </tr>\n",
       "    <tr>\n",
       "      <td>fastQuads</td>\n",
       "      <td>4.630958e-01</td>\n",
       "    </tr>\n",
       "    <tr>\n",
       "      <td>yearsOpen</td>\n",
       "      <td>4.196122e-01</td>\n",
       "    </tr>\n",
       "    <tr>\n",
       "      <td>summit_elev</td>\n",
       "      <td>3.719630e-01</td>\n",
       "    </tr>\n",
       "    <tr>\n",
       "      <td>TerrainParks</td>\n",
       "      <td>3.139742e-01</td>\n",
       "    </tr>\n",
       "    <tr>\n",
       "      <td>SkiableTerrain_ac</td>\n",
       "      <td>1.035979e-01</td>\n",
       "    </tr>\n",
       "    <tr>\n",
       "      <td>LongestRun_mi</td>\n",
       "      <td>5.771530e-02</td>\n",
       "    </tr>\n",
       "    <tr>\n",
       "      <td>trams</td>\n",
       "      <td>1.776357e-15</td>\n",
       "    </tr>\n",
       "    <tr>\n",
       "      <td>fastSixes</td>\n",
       "      <td>9.992007e-16</td>\n",
       "    </tr>\n",
       "    <tr>\n",
       "      <td>fastEight</td>\n",
       "      <td>0.000000e+00</td>\n",
       "    </tr>\n",
       "  </tbody>\n",
       "</table>\n",
       "</div>"
      ],
      "text/plain": [
       "                    Coefficient\n",
       "AdultWeekday       1.094967e+01\n",
       "clusters           3.406477e+00\n",
       "daysOpenLastYear   1.814029e+00\n",
       "triple             1.411836e+00\n",
       "averageSnowfall    1.319763e+00\n",
       "surface            1.315252e+00\n",
       "Runs               1.110194e+00\n",
       "projectedDaysOpen  1.082615e+00\n",
       "vertical_drop      1.004762e+00\n",
       "quad               7.703545e-01\n",
       "double             7.220809e-01\n",
       "total_chairs       6.247145e-01\n",
       "NightSkiing_ac     5.421593e-01\n",
       "Snow Making_ac     4.713180e-01\n",
       "fastQuads          4.630958e-01\n",
       "yearsOpen          4.196122e-01\n",
       "summit_elev        3.719630e-01\n",
       "TerrainParks       3.139742e-01\n",
       "SkiableTerrain_ac  1.035979e-01\n",
       "LongestRun_mi      5.771530e-02\n",
       "trams              1.776357e-15\n",
       "fastSixes          9.992007e-16\n",
       "fastEight          0.000000e+00"
      ]
     },
     "execution_count": 30,
     "metadata": {},
     "output_type": "execute_result"
    }
   ],
   "source": [
    "pd.DataFrame(abs(lm.coef_), X2.columns, columns=['Coefficient']).sort_values(by='Coefficient', ascending= False)"
   ]
  },
  {
   "cell_type": "markdown",
   "metadata": {
    "colab_type": "text",
    "id": "JWjQLr3LAnr6"
   },
   "source": [
    "# **<font color='teal'> When reviewing our new model coefficients, we see `summit_elev` is now in the number two spot. This is also difficult to change from a management prespective and highly correlated with `base_elev` and `vertical_drop`.  This time, rebuild the model without the state features and without the `summit_elev` and without `base_elev`and compare the results. </font>**"
   ]
  },
  {
   "cell_type": "markdown",
   "metadata": {
    "colab_type": "text",
    "id": "RXqvcn93Anr7"
   },
   "source": [
    "#### Model 3"
   ]
  },
  {
   "cell_type": "code",
   "execution_count": 31,
   "metadata": {},
   "outputs": [],
   "source": [
    "df3 = df2.drop(['Name','summit_elev','vertical_drop','differences'], axis=1)"
   ]
  },
  {
   "cell_type": "code",
   "execution_count": 32,
   "metadata": {
    "colab": {},
    "colab_type": "code",
    "id": "6eugnDNNAnr8"
   },
   "outputs": [],
   "source": [
    "\n",
    "X3 = df3.drop(['AdultWeekend'], axis=1)\n",
    "\n",
    "# Declare a response variable, called y, and assign it the AdultWeekend column of the df \n",
    "y3 = df3.AdultWeekend\n",
    "\n",
    "# Here we use the StandardScaler() method of the preprocessing package, and then call the fit() method with parameter X \n",
    "scaler3 = preprocessing.StandardScaler().fit(X3)\n",
    "\n",
    "# Declare a variable called X_scaled, and assign it the result of calling the transform() method with parameter X \n",
    "X_scaled3=scaler3.transform(X3) "
   ]
  },
  {
   "cell_type": "code",
   "execution_count": 33,
   "metadata": {
    "colab": {},
    "colab_type": "code",
    "id": "pq0pW7G9Anr_"
   },
   "outputs": [],
   "source": [
    "X3_train, X3_test, y3_train, y3_test = train_test_split(X_scaled3, y3, test_size=0.25, random_state=1)"
   ]
  },
  {
   "cell_type": "code",
   "execution_count": 34,
   "metadata": {
    "colab": {},
    "colab_type": "code",
    "id": "reXlf0HAAnsG"
   },
   "outputs": [],
   "source": [
    "lm3 = linear_model.LinearRegression()\n",
    "model3 = lm3.fit(X3_train,y3_train)"
   ]
  },
  {
   "cell_type": "code",
   "execution_count": 35,
   "metadata": {},
   "outputs": [],
   "source": [
    "y_pred3 = model3.predict(X3_test)"
   ]
  },
  {
   "cell_type": "code",
   "execution_count": 36,
   "metadata": {},
   "outputs": [],
   "source": [
    "dfap2 = pd.DataFrame({'Actual': y3_test, 'Predicted': y_pred3})"
   ]
  },
  {
   "cell_type": "code",
   "execution_count": 37,
   "metadata": {},
   "outputs": [
    {
     "data": {
      "text/html": [
       "<div>\n",
       "<style scoped>\n",
       "    .dataframe tbody tr th:only-of-type {\n",
       "        vertical-align: middle;\n",
       "    }\n",
       "\n",
       "    .dataframe tbody tr th {\n",
       "        vertical-align: top;\n",
       "    }\n",
       "\n",
       "    .dataframe thead th {\n",
       "        text-align: right;\n",
       "    }\n",
       "</style>\n",
       "<table border=\"1\" class=\"dataframe\">\n",
       "  <thead>\n",
       "    <tr style=\"text-align: right;\">\n",
       "      <th></th>\n",
       "      <th>Actual</th>\n",
       "      <th>Predicted</th>\n",
       "    </tr>\n",
       "  </thead>\n",
       "  <tbody>\n",
       "    <tr>\n",
       "      <td>44</td>\n",
       "      <td>35.0</td>\n",
       "      <td>42.265214</td>\n",
       "    </tr>\n",
       "    <tr>\n",
       "      <td>47</td>\n",
       "      <td>49.0</td>\n",
       "      <td>58.285138</td>\n",
       "    </tr>\n",
       "    <tr>\n",
       "      <td>143</td>\n",
       "      <td>68.0</td>\n",
       "      <td>47.636080</td>\n",
       "    </tr>\n",
       "    <tr>\n",
       "      <td>66</td>\n",
       "      <td>59.0</td>\n",
       "      <td>64.589786</td>\n",
       "    </tr>\n",
       "    <tr>\n",
       "      <td>147</td>\n",
       "      <td>59.0</td>\n",
       "      <td>64.692736</td>\n",
       "    </tr>\n",
       "  </tbody>\n",
       "</table>\n",
       "</div>"
      ],
      "text/plain": [
       "     Actual  Predicted\n",
       "44     35.0  42.265214\n",
       "47     49.0  58.285138\n",
       "143    68.0  47.636080\n",
       "66     59.0  64.589786\n",
       "147    59.0  64.692736"
      ]
     },
     "execution_count": 37,
     "metadata": {},
     "output_type": "execute_result"
    }
   ],
   "source": [
    "dfap2.head()"
   ]
  },
  {
   "cell_type": "code",
   "execution_count": 38,
   "metadata": {},
   "outputs": [
    {
     "data": {
      "text/plain": [
       "6.43638179561544"
      ]
     },
     "execution_count": 38,
     "metadata": {},
     "output_type": "execute_result"
    }
   ],
   "source": [
    "mean_absolute_error(y3_test, y_pred3)"
   ]
  },
  {
   "cell_type": "code",
   "execution_count": 39,
   "metadata": {},
   "outputs": [
    {
     "data": {
      "text/plain": [
       "0.5829323050651407"
      ]
     },
     "execution_count": 39,
     "metadata": {},
     "output_type": "execute_result"
    }
   ],
   "source": [
    "explained_variance_score(y3_test, y_pred3)"
   ]
  },
  {
   "cell_type": "code",
   "execution_count": 40,
   "metadata": {},
   "outputs": [
    {
     "data": {
      "text/html": [
       "<div>\n",
       "<style scoped>\n",
       "    .dataframe tbody tr th:only-of-type {\n",
       "        vertical-align: middle;\n",
       "    }\n",
       "\n",
       "    .dataframe tbody tr th {\n",
       "        vertical-align: top;\n",
       "    }\n",
       "\n",
       "    .dataframe thead th {\n",
       "        text-align: right;\n",
       "    }\n",
       "</style>\n",
       "<table border=\"1\" class=\"dataframe\">\n",
       "  <thead>\n",
       "    <tr style=\"text-align: right;\">\n",
       "      <th></th>\n",
       "      <th>Coefficient</th>\n",
       "    </tr>\n",
       "  </thead>\n",
       "  <tbody>\n",
       "    <tr>\n",
       "      <td>AdultWeekday</td>\n",
       "      <td>1.115256e+01</td>\n",
       "    </tr>\n",
       "    <tr>\n",
       "      <td>clusters</td>\n",
       "      <td>3.476086e+00</td>\n",
       "    </tr>\n",
       "    <tr>\n",
       "      <td>daysOpenLastYear</td>\n",
       "      <td>1.916015e+00</td>\n",
       "    </tr>\n",
       "    <tr>\n",
       "      <td>Runs</td>\n",
       "      <td>1.466534e+00</td>\n",
       "    </tr>\n",
       "    <tr>\n",
       "      <td>triple</td>\n",
       "      <td>1.448187e+00</td>\n",
       "    </tr>\n",
       "    <tr>\n",
       "      <td>surface</td>\n",
       "      <td>1.435043e+00</td>\n",
       "    </tr>\n",
       "    <tr>\n",
       "      <td>projectedDaysOpen</td>\n",
       "      <td>1.171157e+00</td>\n",
       "    </tr>\n",
       "    <tr>\n",
       "      <td>averageSnowfall</td>\n",
       "      <td>1.091563e+00</td>\n",
       "    </tr>\n",
       "    <tr>\n",
       "      <td>quad</td>\n",
       "      <td>7.313712e-01</td>\n",
       "    </tr>\n",
       "    <tr>\n",
       "      <td>double</td>\n",
       "      <td>6.764533e-01</td>\n",
       "    </tr>\n",
       "    <tr>\n",
       "      <td>SkiableTerrain_ac</td>\n",
       "      <td>6.646057e-01</td>\n",
       "    </tr>\n",
       "    <tr>\n",
       "      <td>fastQuads</td>\n",
       "      <td>6.539601e-01</td>\n",
       "    </tr>\n",
       "    <tr>\n",
       "      <td>Snow Making_ac</td>\n",
       "      <td>6.194477e-01</td>\n",
       "    </tr>\n",
       "    <tr>\n",
       "      <td>total_chairs</td>\n",
       "      <td>5.789064e-01</td>\n",
       "    </tr>\n",
       "    <tr>\n",
       "      <td>NightSkiing_ac</td>\n",
       "      <td>5.077406e-01</td>\n",
       "    </tr>\n",
       "    <tr>\n",
       "      <td>yearsOpen</td>\n",
       "      <td>4.788704e-01</td>\n",
       "    </tr>\n",
       "    <tr>\n",
       "      <td>TerrainParks</td>\n",
       "      <td>2.669939e-01</td>\n",
       "    </tr>\n",
       "    <tr>\n",
       "      <td>LongestRun_mi</td>\n",
       "      <td>1.394846e-01</td>\n",
       "    </tr>\n",
       "    <tr>\n",
       "      <td>fastEight</td>\n",
       "      <td>2.442491e-15</td>\n",
       "    </tr>\n",
       "    <tr>\n",
       "      <td>fastSixes</td>\n",
       "      <td>1.776357e-15</td>\n",
       "    </tr>\n",
       "    <tr>\n",
       "      <td>trams</td>\n",
       "      <td>0.000000e+00</td>\n",
       "    </tr>\n",
       "  </tbody>\n",
       "</table>\n",
       "</div>"
      ],
      "text/plain": [
       "                    Coefficient\n",
       "AdultWeekday       1.115256e+01\n",
       "clusters           3.476086e+00\n",
       "daysOpenLastYear   1.916015e+00\n",
       "Runs               1.466534e+00\n",
       "triple             1.448187e+00\n",
       "surface            1.435043e+00\n",
       "projectedDaysOpen  1.171157e+00\n",
       "averageSnowfall    1.091563e+00\n",
       "quad               7.313712e-01\n",
       "double             6.764533e-01\n",
       "SkiableTerrain_ac  6.646057e-01\n",
       "fastQuads          6.539601e-01\n",
       "Snow Making_ac     6.194477e-01\n",
       "total_chairs       5.789064e-01\n",
       "NightSkiing_ac     5.077406e-01\n",
       "yearsOpen          4.788704e-01\n",
       "TerrainParks       2.669939e-01\n",
       "LongestRun_mi      1.394846e-01\n",
       "fastEight          2.442491e-15\n",
       "fastSixes          1.776357e-15\n",
       "trams              0.000000e+00"
      ]
     },
     "execution_count": 40,
     "metadata": {},
     "output_type": "execute_result"
    }
   ],
   "source": [
    "pd.DataFrame(abs(lm3.coef_), X3.columns, columns=['Coefficient']).sort_values(by='Coefficient', ascending= False)"
   ]
  },
  {
   "cell_type": "markdown",
   "metadata": {
    "colab_type": "text",
    "id": "MJvQMns6AnsI"
   },
   "source": [
    "## Identify the Final Model"
   ]
  },
  {
   "cell_type": "markdown",
   "metadata": {
    "colab_type": "text",
    "id": "LD7-3iLcAnsK"
   },
   "source": [
    "**<font color='teal'> Review the model performances in the table below and choose the best model for proving insights to Big Mountain management about what features are driving ski resort lift ticket prices. Type your choice in the final markdown cell — you will discuss this selection more in the next step of the guided casptone. </font>**"
   ]
  },
  {
   "cell_type": "markdown",
   "metadata": {
    "colab_type": "text",
    "id": "La5S9fRPAnsK"
   },
   "source": [
    "| Model | Explained Variance| Mean Absolute Error|Features Dropped|\n",
    "| --- | --- | --- | --- |\n",
    "| Model 1. | 0. |  |-|\n",
    "| Model 2. | 0.| |'state'|\n",
    "| Model 3. | 0. | |'state','summit_elev','base_elev'|"
   ]
  },
  {
   "cell_type": "markdown",
   "metadata": {
    "colab_type": "text",
    "id": "T2c-zn7TAnsL"
   },
   "source": [
    "Model Selection:"
   ]
  },
  {
   "cell_type": "code",
   "execution_count": null,
   "metadata": {
    "colab": {},
    "colab_type": "code",
    "id": "CgC0eMBrAnsM"
   },
   "outputs": [],
   "source": [
    "# I choose model 3, but I think between the problems cited in the Springboard chat about this project, and perhaps a mistake on my part, I do not think this model is ready to be presented."
   ]
  }
 ],
 "metadata": {
  "colab": {
   "collapsed_sections": [
    "RtEspslPZyGY",
    "s0DokMkAZyGc",
    "2iuitnKcZyHS",
    "iAWQxougZyHW",
    "ThMTimlBZyHZ",
    "QwZ-LkjXZyHt",
    "srtXEA3N4-Y9",
    "ChVreJupZyIA",
    "zDgSSsq1ZyID",
    "I3GYKWfi5Llg",
    "pmMvrhbI-viE",
    "ZXDPkW3UZyIX",
    "Dnc_vHQLZyId",
    "daJxuJ-dZyIg",
    "mAQ-oHiPZyIn",
    "hnGOsp3mZyIp"
   ],
   "name": "GuidedCapstoneStep5.ipynb",
   "provenance": []
  },
  "kernelspec": {
   "display_name": "Python 3",
   "language": "python",
   "name": "python3"
  },
  "language_info": {
   "codemirror_mode": {
    "name": "ipython",
    "version": 3
   },
   "file_extension": ".py",
   "mimetype": "text/x-python",
   "name": "python",
   "nbconvert_exporter": "python",
   "pygments_lexer": "ipython3",
   "version": "3.7.4"
  },
  "toc": {
   "base_numbering": "0",
   "nav_menu": {},
   "number_sections": true,
   "sideBar": true,
   "skip_h1_title": false,
   "title_cell": "Table of Contents",
   "title_sidebar": "Contents",
   "toc_cell": true,
   "toc_position": {
    "height": "calc(100% - 180px)",
    "left": "10px",
    "top": "150px",
    "width": "288px"
   },
   "toc_section_display": true,
   "toc_window_display": true
  }
 },
 "nbformat": 4,
 "nbformat_minor": 4
}
